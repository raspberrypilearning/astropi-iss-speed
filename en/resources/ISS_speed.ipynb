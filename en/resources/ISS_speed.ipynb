{
 "cells": [
  {
   "cell_type": "markdown",
   "id": "09528cdc",
   "metadata": {},
   "source": [
    "This projcet tries to determine a value for the velocity v of the ISS based on photos taken from the space station as part of Astro Pi Mission Space Lab. \n",
    "The principle is to idenify features in consecutive frames and then use the Ground Sampling Distance (the area covered by a single pixel) to work out how far the ISS has travelled between photos (d). Extracting the time the photos were taken allows a simple v = d/t calculation to be made. "
   ]
  },
  {
   "cell_type": "code",
   "execution_count": 25,
   "id": "598545c5",
   "metadata": {},
   "outputs": [],
   "source": [
    "import cv2\n",
    "import math\n",
    "from exif import Image\n",
    "from datetime import datetime"
   ]
  },
  {
   "cell_type": "markdown",
   "id": "b9b4cdf0",
   "metadata": {},
   "source": [
    "Extract EXIF data from photo and access the time the photo was taken. Convert this to a datetime object and calculate the delta between the two."
   ]
  },
  {
   "cell_type": "code",
   "execution_count": 29,
   "id": "2f0f6ba8",
   "metadata": {},
   "outputs": [
    {
     "name": "stdout",
     "output_type": "stream",
     "text": [
      "2022:01:14 21:12:43\n",
      "2022:01:14 21:12:25\n"
     ]
    }
   ],
   "source": [
    "with open('cv2comp2/photo_01931.jpg', 'rb') as image_file:\n",
    "    frame1 = Image(image_file)\n",
    "    print(frame1.datetime)\n",
    "    i1_time = datetime.strptime(frame1.datetime, '%Y:%m:%d %H:%M:%S')\n",
    "with open('cv2comp2/photo_01929.jpg', 'rb') as image_file:\n",
    "    frame2 = Image(image_file)\n",
    "    print(frame2.datetime) \n",
    "    i2_time = datetime.strptime(frame2.datetime, '%Y:%m:%d %H:%M:%S')\n",
    "time_diff=(i1_time - i2_time).seconds"
   ]
  },
  {
   "cell_type": "markdown",
   "id": "a63b5002",
   "metadata": {},
   "source": [
    "Open two consecutive images taken from the ISS with opencv. "
   ]
  },
  {
   "cell_type": "code",
   "execution_count": 2,
   "id": "148f1d91",
   "metadata": {},
   "outputs": [],
   "source": [
    "i1 = cv2.imread('cv2comp2/photo_01931.jpg',0)\n",
    "i2 = cv2.imread('cv2comp2/photo_01929.jpg',0)\n"
   ]
  },
  {
   "cell_type": "markdown",
   "id": "9fd76edd",
   "metadata": {},
   "source": [
    "There are anumber of feature detection algorithms build into opencv. Oriented FAST and Rotated Brief (ORB) is one of them.\n",
    "First of all we setup an ORB and then use it to detect the key points and compute the image descriptors for both of the images.   "
   ]
  },
  {
   "cell_type": "code",
   "execution_count": 3,
   "id": "d1805f6e",
   "metadata": {},
   "outputs": [],
   "source": [
    "orb = cv2.ORB_create(nfeatures=500)\n",
    "kp1, des1 = orb.detectAndCompute(i1, None)\n",
    "kp2, des2 = orb.detectAndCompute(i2, None)\n",
    "\n"
   ]
  },
  {
   "cell_type": "markdown",
   "id": "f6876de0",
   "metadata": {},
   "source": [
    "Then we use OpenCV's Brute Force (BF) matcher to match the features extracted from one image with those from the other. The results are then sorted based on distnace (not a physical distance, but how similar the features are)."
   ]
  },
  {
   "cell_type": "code",
   "execution_count": 4,
   "id": "0d203947",
   "metadata": {},
   "outputs": [],
   "source": [
    "bf = cv2.BFMatcher(cv2.NORM_HAMMING, crossCheck=True)\n",
    "matches = bf.match(des1,des2)\n",
    "matches = sorted(matches, key=lambda x: x.distance)"
   ]
  },
  {
   "cell_type": "markdown",
   "id": "a4f35342",
   "metadata": {},
   "source": [
    "Mark the features on scaled versions of the images and connect them with lines.\n",
    "PRESS a key to kill the images window - DON'T CLOSE it or else Jupyter will hang on the next cell!"
   ]
  },
  {
   "cell_type": "code",
   "execution_count": 5,
   "id": "699a5698",
   "metadata": {},
   "outputs": [],
   "source": [
    "match_img = cv2.drawMatches(i1, kp1, i2, kp2, matches[:100], None)\n",
    "rs = cv2.resize(match_img, (1600,600), interpolation = cv2.INTER_AREA)\n",
    "cv2.imshow('m', rs)\n",
    "cv2.waitKey(0)\n",
    "cv2.destroyWindow('m')"
   ]
  },
  {
   "cell_type": "markdown",
   "id": "d8696f57",
   "metadata": {},
   "source": [
    "Get a clearer view of the detected features in a simgle image"
   ]
  },
  {
   "cell_type": "code",
   "execution_count": 6,
   "id": "196b031b",
   "metadata": {},
   "outputs": [],
   "source": [
    "i1kp = cv2.drawKeypoints(i1,kp1,0, (0,255,0))"
   ]
  },
  {
   "cell_type": "code",
   "execution_count": 7,
   "id": "c11155cb",
   "metadata": {},
   "outputs": [],
   "source": [
    "rsi1kp = cv2.resize(i1kp, (800,600), interpolation = cv2.INTER_AREA)\n",
    "cv2.imshow('k', rsi1kp)\n",
    "cv2.waitKey(0)\n",
    "cv2.destroyWindow('k')"
   ]
  },
  {
   "cell_type": "markdown",
   "id": "480ad057",
   "metadata": {},
   "source": [
    "Create two lists to staore the x,y coordinates of the matching points from each image and populate them by iterating over all the matches"
   ]
  },
  {
   "cell_type": "code",
   "execution_count": 10,
   "id": "e7c3d24b",
   "metadata": {},
   "outputs": [],
   "source": [
    "list_kp1 = []\n",
    "list_kp2 = []\n",
    "for m in matches:\n",
    "    i1_idx = m.queryIdx\n",
    "    i2_idx = m.trainIdx\n",
    "    (x1,y1) = kp1[i1_idx].pt\n",
    "    (x2,y2) = kp2[i2_idx].pt\n",
    "    list_kp1.append((x1,y1))\n",
    "    list_kp2.append((x2,y2))"
   ]
  },
  {
   "cell_type": "code",
   "execution_count": 16,
   "id": "df69fa70",
   "metadata": {},
   "outputs": [
    {
     "name": "stdout",
     "output_type": "stream",
     "text": [
      "(2173.82421875, 779.3280639648438) (2477.9521484375, 172.80001831054688)\n"
     ]
    }
   ],
   "source": [
    "print(list_kp1[0], list_kp2[0])\n"
   ]
  },
  {
   "cell_type": "markdown",
   "id": "07843c8c",
   "metadata": {},
   "source": [
    "Two different ways of calculating the distnace between points on images. Pick one!"
   ]
  },
  {
   "cell_type": "code",
   "execution_count": 7,
   "id": "b8f4b987",
   "metadata": {},
   "outputs": [],
   "source": [
    "d = math.sqrt((list_kp1[0][0] - list_kp2[0][0])**2 + (list_kp2[0][1] - list_kp1[0][1])**2)6820.325056834193"
   ]
  },
  {
   "cell_type": "code",
   "execution_count": null,
   "id": "d7f58139",
   "metadata": {},
   "outputs": [],
   "source": [
    "d = math.hypot(list_kp1[0][0] - list_kp2[0][0], list_kp1[0][1] - list_kp2[0][1])"
   ]
  },
  {
   "cell_type": "code",
   "execution_count": 10,
   "id": "bff6a753",
   "metadata": {},
   "outputs": [
    {
     "data": {
      "text/plain": [
       "406.403437649094"
      ]
     },
     "execution_count": 10,
     "metadata": {},
     "output_type": "execute_result"
    }
   ],
   "source": [
    "d"
   ]
  },
  {
   "cell_type": "markdown",
   "id": "6603bc0c",
   "metadata": {},
   "source": [
    "Calculate the mean distance (in pixels) from all matches"
   ]
  },
  {
   "cell_type": "code",
   "execution_count": 11,
   "id": "7600059f",
   "metadata": {},
   "outputs": [
    {
     "name": "stdout",
     "output_type": "stream",
     "text": [
      "946.6377653643358\n"
     ]
    }
   ],
   "source": [
    "a = 0\n",
    "l = len(matches)\n",
    "#l =100\n",
    "for c in range(l):\n",
    "    d = math.hypot(list_kp1[c][0] - list_kp2[c][0], list_kp1[c][1] - list_kp2[c][1])\n",
    "    a = a + d\n",
    "    #print(d)\n",
    "print(a/l)"
   ]
  },
  {
   "cell_type": "markdown",
   "id": "6d1dd8eb",
   "metadata": {},
   "source": [
    "Calculate the Ground Sampling Distnace (GSD) - how much real world distance is represented by a pixel in the image usign this online tool\n",
    "https://www.3dflow.net/ground-sampling-distance-calculator/\n",
    "for these images taken with HQC and 5mm lens it is: 12648 cm/pixel\n",
    "Use this to calculate velocity based on time difference of images.\n"
   ]
  },
  {
   "cell_type": "code",
   "execution_count": 30,
   "id": "ec425492",
   "metadata": {},
   "outputs": [
    {
     "data": {
      "text/plain": [
       "6651.7080312933995"
      ]
     },
     "execution_count": 30,
     "metadata": {},
     "output_type": "execute_result"
    }
   ],
   "source": [
    "(((a/l) * 12648/100)/time_diff)"
   ]
  },
  {
   "cell_type": "code",
   "execution_count": 25,
   "id": "6047c9e8",
   "metadata": {},
   "outputs": [
    {
     "data": {
      "text/plain": [
       "12648.397435897437"
      ]
     },
     "execution_count": 25,
     "metadata": {},
     "output_type": "execute_result"
    }
   ],
   "source": [
    "(513019/4056)*100"
   ]
  },
  {
   "cell_type": "code",
   "execution_count": null,
   "id": "45ffc74d",
   "metadata": {},
   "outputs": [],
   "source": [
    "6651.7080312933995"
   ]
  },
  {
   "cell_type": "markdown",
   "id": "973846d3",
   "metadata": {},
   "source": [
    "Correct value for ISS speed is 7.66 km/s\n"
   ]
  },
  {
   "cell_type": "markdown",
   "id": "5db637ca",
   "metadata": {},
   "source": [
    "Possible refinements or improvements:\n",
    "- Use a different feature detection algorithm\n",
    "- Choose a different number of feature matches to use\n",
    "- Use more than 2 photos\n",
    "- Check how long a photo takes to be written to disk to get a more accurate value for the time between photos. \n",
    "- Does the curvature of the Earth have an effect on the actual distance values travelled?\n",
    "- Does the height of the identified feature also have an effect?\n",
    "- Does the angle of motion (diagonally across the frame) have a impact that needs to be corrected for?"
   ]
  },
  {
   "cell_type": "code",
   "execution_count": null,
   "id": "b2b34bd6",
   "metadata": {},
   "outputs": [],
   "source": []
  }
 ],
 "metadata": {
  "kernelspec": {
   "display_name": "Python 3 (ipykernel)",
   "language": "python",
   "name": "python3"
  },
  "language_info": {
   "codemirror_mode": {
    "name": "ipython",
    "version": 3
   },
   "file_extension": ".py",
   "mimetype": "text/x-python",
   "name": "python",
   "nbconvert_exporter": "python",
   "pygments_lexer": "ipython3",
   "version": "3.9.2"
  }
 },
 "nbformat": 4,
 "nbformat_minor": 5
}
